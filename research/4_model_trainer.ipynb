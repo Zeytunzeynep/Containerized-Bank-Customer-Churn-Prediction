{
 "cells": [
  {
   "cell_type": "code",
   "execution_count": 1,
   "id": "fddc1458",
   "metadata": {},
   "outputs": [],
   "source": [
    "import os"
   ]
  },
  {
   "cell_type": "code",
   "execution_count": 26,
   "id": "68d38389",
   "metadata": {},
   "outputs": [],
   "source": [
    "os.chdir(\"../\")"
   ]
  },
  {
   "cell_type": "code",
   "execution_count": 25,
   "id": "a7ec05a3",
   "metadata": {},
   "outputs": [
    {
     "data": {
      "text/plain": [
       "'c:\\\\Users\\\\zeyne\\\\Containerized-Bank-Customer-Churn-Prediction\\\\research'"
      ]
     },
     "execution_count": 25,
     "metadata": {},
     "output_type": "execute_result"
    }
   ],
   "source": [
    "%pwd"
   ]
  },
  {
   "cell_type": "code",
   "execution_count": 4,
   "id": "68f52f72",
   "metadata": {},
   "outputs": [],
   "source": [
    "from dataclasses import dataclass\n",
    "from pathlib import Path"
   ]
  },
  {
   "cell_type": "code",
   "execution_count": 28,
   "id": "26313aca",
   "metadata": {},
   "outputs": [],
   "source": [
    "@dataclass (frozen = True)\n",
    "class ModelTrainerConfig:\n",
    "    root_dir : Path\n",
    "    train_data_path : Path\n",
    "    test_data_path : Path\n",
    "    model : str\n",
    "    target_column : str \n",
    "    parameters : dict[str,any]\n",
    "    model_name : str"
   ]
  },
  {
   "cell_type": "code",
   "execution_count": 29,
   "id": "589a70d5",
   "metadata": {},
   "outputs": [],
   "source": [
    "from src.Containerized_Bank_Customed_Churn_Prediction.constants import *\n",
    "from src.Containerized_Bank_Customed_Churn_Prediction.utils.common import read_yaml,create_directories"
   ]
  },
  {
   "cell_type": "code",
   "execution_count": 43,
   "id": "de174907",
   "metadata": {},
   "outputs": [],
   "source": [
    "class ConfigurationManager:\n",
    " \n",
    " def __init__(self, config_filepath = CONFIG_FILE_PATH ,params_filepath = PARAMS_FILE_PATH, schema_filepath = SCHEMA_FILE_PATH):\n",
    "\n",
    "    self.config = read_yaml(config_filepath)\n",
    "    self.params = read_yaml(params_filepath)\n",
    "    self.schema = read_yaml(schema_filepath)\n",
    "\n",
    "    create_directories([self.config.artifacts_root])\n",
    "\n",
    "    \n",
    "\n",
    " def get_model_trainer_config(self) ->ModelTrainerConfig:\n",
    "     config = self.config.model_trainer\n",
    "     schema = self.schema.TARGET_COLUMN\n",
    "     params = self.params\n",
    "\n",
    "\n",
    "     model_name = params[\"model_name\"]\n",
    "     model_trainer_config = ModelTrainerConfig(\n",
    "        root_dir = config.root_dir,\n",
    "        train_data_path = config.train_data_path,\n",
    "        test_data_path = config.test_data_path,\n",
    "        model = config.model,\n",
    "        target_column = schema.name,\n",
    "        parameters = params[model_name],\n",
    "        model_name = model_name\n",
    "     )\n",
    "\n",
    "     return model_trainer_config"
   ]
  },
  {
   "cell_type": "code",
   "execution_count": 12,
   "id": "a2ed1fc9",
   "metadata": {},
   "outputs": [],
   "source": [
    "import os \n",
    "from Containerized_Bank_Customed_Churn_Prediction import logger\n",
    "from sklearn.model_selection import train_test_split\n",
    "import pandas as pd\n",
    "from sklearn.impute import SimpleImputer\n",
    "from sklearn.pipeline import Pipeline\n",
    "from sklearn.compose import ColumnTransformer\n",
    "from sklearn.preprocessing import OneHotEncoder, StandardScaler\n",
    "from sklearn.ensemble import RandomForestClassifier\n",
    "import joblib"
   ]
  },
  {
   "cell_type": "code",
   "execution_count": 56,
   "id": "3ab55ea2",
   "metadata": {},
   "outputs": [],
   "source": [
    "class ModelTrainer:\n",
    "    def __init__(self,config:ModelTrainerConfig):\n",
    "        self.config = config\n",
    "        \n",
    "    def train(self):\n",
    "\n",
    "        preprocessor = joblib.load(\"artifacts/data_transformation/preprocessor.pkl\")\n",
    "        \n",
    "        parameters=self.config.parameters\n",
    "        model_class = RandomForestClassifier\n",
    "\n",
    "        full_pipe =Pipeline(steps=[\n",
    "                ('preprocessor',preprocessor),\n",
    "                ('model', model_class(**parameters))\n",
    "            ])\n",
    "\n",
    "\n",
    "\n",
    "        train_data = pd.read_csv(self.config.train_data_path)\n",
    "        test_data = pd.read_csv(self.config.test_data_path)\n",
    "\n",
    "        train_x = train_data.drop(self.config.target_column,axis = 1)\n",
    "        test_x = test_data.drop(self.config.target_column,axis = 1)\n",
    "\n",
    "        train_y = train_data[[self.config.target_column]]\n",
    "        test_y =  test_data[[self.config.target_column]]\n",
    "\n",
    "\n",
    "        full_pipe.fit(train_x, train_y.values.ravel())\n",
    "\n",
    "        joblib.dump(full_pipe, os.path.join(self.config.root_dir,self.config.model_name))\n",
    "\n",
    "\n",
    "\n",
    "        "
   ]
  },
  {
   "cell_type": "code",
   "execution_count": 57,
   "id": "a28b7130",
   "metadata": {},
   "outputs": [
    {
     "name": "stdout",
     "output_type": "stream",
     "text": [
      "[2025-08-06 23:27:55,944:INFO: common: yaml file:config\\config.yaml loaded successfully]\n",
      "[2025-08-06 23:27:55,945:INFO: common: yaml file:params.yaml loaded successfully]\n",
      "[2025-08-06 23:27:55,950:INFO: common: yaml file:schema.yaml loaded successfully]\n",
      "[2025-08-06 23:27:55,952:INFO: common: created directory at:artifacts]\n"
     ]
    }
   ],
   "source": [
    "try:\n",
    "    config = ConfigurationManager()\n",
    "    model_tariner_config = config.get_model_trainer_config()\n",
    "    model_trainer = ModelTrainer(config=model_tariner_config)\n",
    "    model_trainer.train()\n",
    "\n",
    "    \n",
    "except Exception as e:\n",
    "    raise e"
   ]
  }
 ],
 "metadata": {
  "kernelspec": {
   "display_name": "churn_env",
   "language": "python",
   "name": "python3"
  },
  "language_info": {
   "codemirror_mode": {
    "name": "ipython",
    "version": 3
   },
   "file_extension": ".py",
   "mimetype": "text/x-python",
   "name": "python",
   "nbconvert_exporter": "python",
   "pygments_lexer": "ipython3",
   "version": "3.10.18"
  }
 },
 "nbformat": 4,
 "nbformat_minor": 5
}
