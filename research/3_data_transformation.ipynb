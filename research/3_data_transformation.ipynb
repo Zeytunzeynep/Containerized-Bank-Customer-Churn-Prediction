{
 "cells": [
  {
   "cell_type": "code",
   "execution_count": 2,
   "id": "26752591",
   "metadata": {},
   "outputs": [],
   "source": [
    "import os "
   ]
  },
  {
   "cell_type": "code",
   "execution_count": 3,
   "id": "bad45478",
   "metadata": {},
   "outputs": [],
   "source": [
    "os.chdir(\"../\")"
   ]
  },
  {
   "cell_type": "code",
   "execution_count": 4,
   "id": "47d0b5bc",
   "metadata": {},
   "outputs": [
    {
     "data": {
      "text/plain": [
       "'c:\\\\Users\\\\zeyne\\\\Containerized-Bank-Customer-Churn-Prediction'"
      ]
     },
     "execution_count": 4,
     "metadata": {},
     "output_type": "execute_result"
    }
   ],
   "source": [
    "%pwd"
   ]
  },
  {
   "cell_type": "code",
   "execution_count": 5,
   "id": "bfbede8c",
   "metadata": {},
   "outputs": [],
   "source": [
    "from dataclasses import dataclass\n",
    "from pathlib import Path"
   ]
  },
  {
   "cell_type": "code",
   "execution_count": 18,
   "id": "095e1c7c",
   "metadata": {},
   "outputs": [],
   "source": [
    "@dataclass (frozen=True)\n",
    "class DataTransformationConfig:\n",
    "    root_dir : Path\n",
    "    data_path: Path\n",
    "    parameters : dict[str,any]\n",
    "   \n",
    "   "
   ]
  },
  {
   "cell_type": "code",
   "execution_count": 7,
   "id": "15864d53",
   "metadata": {},
   "outputs": [],
   "source": [
    "from src.Containerized_Bank_Customed_Churn_Prediction.constants import *\n",
    "from src.Containerized_Bank_Customed_Churn_Prediction.utils.common import read_yaml,create_directories"
   ]
  },
  {
   "cell_type": "code",
   "execution_count": 19,
   "id": "37739726",
   "metadata": {},
   "outputs": [],
   "source": [
    "class ConfigurationManager:\n",
    " def __init__(self,config_filepath = CONFIG_FILE_PATH,params_filepath = PARAMS_FILE_PATH,schema_filepath = SCHEMA_FILE_PATH):\n",
    "\n",
    "    self.config = read_yaml(config_filepath)\n",
    "    self.params = read_yaml(params_filepath)\n",
    "    self.schema = read_yaml(schema_filepath)\n",
    "\n",
    "    create_directories([self.config.artifacts_root])\n",
    "\n",
    " def get_data_transformation_config(self) -> DataTransformationConfig:\n",
    "        config = self.config.data_transformation\n",
    "\n",
    "        create_directories([config.root_dir])\n",
    "\n",
    "        data_transformation_config = DataTransformationConfig(\n",
    "            root_dir = config.root_dir,\n",
    "            data_path = config.data_path,\n",
    "            parameters = config.parameters,\n",
    "            \n",
    "        )\n",
    "\n",
    "        return data_transformation_config\n",
    "\n"
   ]
  },
  {
   "cell_type": "code",
   "execution_count": 9,
   "id": "c05d488e",
   "metadata": {},
   "outputs": [],
   "source": [
    "import os \n",
    "from src.Containerized_Bank_Customed_Churn_Prediction import logger\n",
    "from sklearn.model_selection import train_test_split\n",
    "import pandas as pd\n",
    "from sklearn.impute import SimpleImputer\n",
    "from sklearn.pipeline import Pipeline\n",
    "from sklearn.compose import ColumnTransformer\n",
    "from sklearn.preprocessing import OneHotEncoder, StandardScaler\n",
    "from sklearn.ensemble import RandomForestClassifier\n",
    "\n"
   ]
  },
  {
   "cell_type": "code",
   "execution_count": 10,
   "id": "950aa026",
   "metadata": {},
   "outputs": [],
   "source": [
    "import joblib"
   ]
  },
  {
   "cell_type": "code",
   "execution_count": 22,
   "id": "d21dde8f",
   "metadata": {},
   "outputs": [],
   "source": [
    "class DataTransformation:\n",
    "    def __init__(self,config:DataTransformationConfig):\n",
    "        self.config = config\n",
    "        \n",
    "\n",
    "    def prep_for_pipeline(self):\n",
    "        data = pd.read_csv(self.config.data_path)\n",
    "\n",
    "        df = data.copy()\n",
    "        \n",
    "        y = df['churn']\n",
    "\n",
    "        df.drop(columns=['churn','customer_id'],inplace=True)\n",
    "\n",
    "        X = df\n",
    "\n",
    "        num_cols = X.select_dtypes(include=['int64','float64']).columns\n",
    "        cat_cols = X.select_dtypes(include=['object']).columns\n",
    "\n",
    "        return X,num_cols,cat_cols,y\n",
    "\n",
    "\n",
    "    def num_cat_pipelines(self,num_cols,cat_cols):\n",
    "\n",
    "        num_pipe = Pipeline(steps=[\n",
    "            ('imputer',SimpleImputer(strategy='mean')),\n",
    "            ('StandardScaler',StandardScaler())\n",
    "        ])\n",
    "        \n",
    "        cat_pipe = Pipeline(steps=[\n",
    "            ('imputer',SimpleImputer(strategy='most_frequent')),\n",
    "            ('one-hot',OneHotEncoder(handle_unknown='ignore'))\n",
    "        ])\n",
    "\n",
    "        preprocessor=ColumnTransformer(\n",
    "            transformers=[\n",
    "                ('num',num_pipe,num_cols),\n",
    "                ('cat',cat_pipe,cat_cols)\n",
    "            ]\n",
    "        )\n",
    "        joblib.dump(preprocessor, os.path.join(self.config.root_dir, \"preprocessor.pkl\"))\n",
    "\n",
    "        return preprocessor\n",
    "    \n",
    "    \n",
    "      \n",
    "    def train_test_split(self,X,y):\n",
    "            \n",
    "            X_train, X_test, y_train, y_test = train_test_split(\n",
    "                 X, y, test_size=0.2, random_state=42, stratify=y\n",
    "                )\n",
    "\n",
    "            train = pd.concat([X_train, y_train], axis=1)\n",
    "            test = pd.concat([X_test, y_test], axis=1)\n",
    "       \n",
    "            train.to_csv(os.path.join(self.config.root_dir,'train.csv'), index = False)\n",
    "            test.to_csv(os.path.join(self.config.root_dir, 'test.csv'), index = False)\n",
    "\n",
    "            logger.info(f\"Split işlemi yapıldı\")\n",
    "            print(train.shape)\n",
    "            print(test.shape)\n",
    "\n",
    "            \n",
    "\n",
    "\n",
    "\n"
   ]
  },
  {
   "cell_type": "code",
   "execution_count": 23,
   "id": "3bc3a129",
   "metadata": {},
   "outputs": [
    {
     "name": "stdout",
     "output_type": "stream",
     "text": [
      "[2025-08-06 22:22:02,840:INFO: common: yaml file:config\\config.yaml loaded successfully]\n",
      "[2025-08-06 22:22:02,842:INFO: common: yaml file:params.yaml loaded successfully]\n",
      "[2025-08-06 22:22:02,846:INFO: common: yaml file:schema.yaml loaded successfully]\n",
      "[2025-08-06 22:22:02,846:INFO: common: created directory at:artifacts]\n",
      "[2025-08-06 22:22:02,849:INFO: common: created directory at:artifacts/data_transformation]\n",
      "[2025-08-06 22:22:02,919:INFO: 2274172490: Split işlemi yapıldı]\n",
      "(8000, 11)\n",
      "(2000, 11)\n"
     ]
    }
   ],
   "source": [
    "try:\n",
    "    config = ConfigurationManager()\n",
    "    data_transformation_config = config.get_data_transformation_config()\n",
    "    data_transformation = DataTransformation(config=data_transformation_config)\n",
    "    X, num_cols, cat_cols, y = data_transformation.prep_for_pipeline()\n",
    "    preprocessor=data_transformation.num_cat_pipelines(num_cols,cat_cols)\n",
    "    data_transformation.train_test_split(X,y)\n",
    "\n",
    "    \n",
    "except Exception as e:\n",
    "    raise e"
   ]
  }
 ],
 "metadata": {
  "kernelspec": {
   "display_name": "churn_env",
   "language": "python",
   "name": "python3"
  },
  "language_info": {
   "codemirror_mode": {
    "name": "ipython",
    "version": 3
   },
   "file_extension": ".py",
   "mimetype": "text/x-python",
   "name": "python",
   "nbconvert_exporter": "python",
   "pygments_lexer": "ipython3",
   "version": "3.10.18"
  }
 },
 "nbformat": 4,
 "nbformat_minor": 5
}
