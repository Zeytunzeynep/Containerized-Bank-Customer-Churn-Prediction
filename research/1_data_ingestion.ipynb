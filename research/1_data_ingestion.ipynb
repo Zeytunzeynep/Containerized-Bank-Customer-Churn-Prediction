{
 "cells": [
  {
   "cell_type": "code",
   "execution_count": 1,
   "id": "51491c59",
   "metadata": {},
   "outputs": [],
   "source": [
    "import os "
   ]
  },
  {
   "cell_type": "code",
   "execution_count": 2,
   "id": "da5ed29a",
   "metadata": {},
   "outputs": [
    {
     "data": {
      "text/plain": [
       "'c:\\\\Users\\\\zeyne\\\\Containerized-Bank-Customer-Churn-Prediction\\\\research'"
      ]
     },
     "execution_count": 2,
     "metadata": {},
     "output_type": "execute_result"
    }
   ],
   "source": [
    "%pwd"
   ]
  },
  {
   "cell_type": "code",
   "execution_count": 3,
   "id": "b51cb81d",
   "metadata": {},
   "outputs": [],
   "source": [
    "os.chdir(\"../\")"
   ]
  },
  {
   "cell_type": "code",
   "execution_count": 4,
   "id": "d5a8b153",
   "metadata": {},
   "outputs": [
    {
     "data": {
      "text/plain": [
       "'c:\\\\Users\\\\zeyne\\\\Containerized-Bank-Customer-Churn-Prediction'"
      ]
     },
     "execution_count": 4,
     "metadata": {},
     "output_type": "execute_result"
    }
   ],
   "source": [
    "%pwd"
   ]
  },
  {
   "cell_type": "markdown",
   "id": "8bfa112d",
   "metadata": {},
   "source": [
    "yukarıdaki 4 hücrede dosya işlemleri özellikle dosyaları oluşturma ve aralarında dolanma amaçlı 'OS' kütüphanesini import edip tam olarak hangi konumda olduğumuzu öğreniyoruz"
   ]
  },
  {
   "cell_type": "code",
   "execution_count": null,
   "id": "6021adcd",
   "metadata": {},
   "outputs": [],
   "source": [
    "from dataclasses import dataclass\n",
    "from pathlib import Path\n",
    "\n",
    "@dataclass(frozen=True)\n",
    "class DataIngestionConfig:\n",
    "    root_dir : Path\n",
    "    source_URL : str\n",
    "    local_data_file :str\n",
    "    unzip_dir : Path\n"
   ]
  },
  {
   "cell_type": "markdown",
   "id": "21cb7676",
   "metadata": {},
   "source": [
    "yukarıdaki hücrede ise config.yaml file'da olan ve sonrasında sıkça kullanacağımız için bir config sınıfına sabitleyip kullanmanın daha avantajlı olacağı \n",
    "\n",
    "root_dir --> ilgili işlemin yapıldığı kök dosya\n",
    "\n",
    "source_URL --> ilgili işlem data almak olduğu için alınacak datanın bağlantısı\n",
    "\n",
    "local_data_file --> data indiği zaman açılan dosya \n",
    "\n",
    "unzip_dir --> datanın boyut kaynaklı zip olması halinde kullanılacak ve oluşturulacak dosya"
   ]
  },
  {
   "cell_type": "code",
   "execution_count": null,
   "id": "916b1cc0",
   "metadata": {},
   "outputs": [],
   "source": [
    "from src.Containerized_Bank_Customed_Churn_Prediction.constants import *\n",
    "from src.Containerized_Bank_Customed_Churn_Prediction.utils.common import read_yaml,create_directories"
   ]
  },
  {
   "cell_type": "markdown",
   "id": "48fcdfca",
   "metadata": {},
   "source": [
    "yukarıdaki hücrede ise kodun yapısını oluştururken constants içine yaml dosyalarının relative path hallerini koymuştuk onları ve common adlı sık kullanılan ve kullanılacak olan fonksiyonlar bulunan filedan yaml dosyalarını okuması için + klasörler oluşturmak için fonksiyonlar import ederiz"
   ]
  },
  {
   "cell_type": "code",
   "execution_count": null,
   "id": "be3cbfcd",
   "metadata": {},
   "outputs": [],
   "source": [
    "class ConfigurationManager:\n",
    " def __init__(self,config_filepath = CONFIG_FILE_PATH,params_filepath = PARAMS_FILE_PATH,schema_filepath = SCHEMA_FILE_PATH):\n",
    "\n",
    "    self.config = read_yaml(config_filepath)\n",
    "    self.params = read_yaml(params_filepath)\n",
    "    self.schema = read_yaml(schema_filepath)\n",
    "\n",
    "    create_directories([self.config.artifacts_root])\n",
    "\n",
    " def get_data_ingestion_config(self) -> DataIngestionConfig:\n",
    "        config=self.config.data_ingestion\n",
    "\n",
    "        create_directories([config.root_dir])\n",
    "       \n",
    "       \n",
    "        data_ingestion_config = DataIngestionConfig(\n",
    "         root_dir = config.root_dir,\n",
    "         source_URL = config.source_URL,\n",
    "         local_data_file = config.local_data_file,\n",
    "         unzip_dir = config.unzip_dir,\n",
    "        )\n",
    "        return data_ingestion_config\n"
   ]
  },
  {
   "cell_type": "markdown",
   "id": "54d0261b",
   "metadata": {},
   "source": [
    "yukarıdaki hücrede ilk kısımda ConfigurationManager classı adı üzerinde Config işlemlerini düzenlemek için init fonksiyonunda yaml dosyalarını paramaetre olarak veririz sonrasında python OOP de alışkın olduğumuz self ile onları eşleştiririz\n",
    "\n",
    "ikinci kısımda ise ilgili işlemle ileride yapılacak işlemlerin config üzerinde olması için class içinde düzenleme yapıyoruz fonksiyonun return ifadesinde DataIngestionConfig nesnesinin dönmesini istiyorum bunun içinde hem fonksiyonun başında hemde içinde config ile config.yaml dosyasının içinde de yukarıdaki hücrelerde de bulunan dosya yolları vs eşitliyoruz "
   ]
  },
  {
   "cell_type": "code",
   "execution_count": 36,
   "id": "fea3c4f2",
   "metadata": {},
   "outputs": [],
   "source": [
    "import os\n",
    "import urllib.request as request\n",
    "import zipfile\n",
    "from Containerized_Bank_Customed_Churn_Prediction import logger\n",
    "from Containerized_Bank_Customed_Churn_Prediction.utils.common import get_size"
   ]
  },
  {
   "cell_type": "markdown",
   "id": "362a6ad2",
   "metadata": {},
   "source": [
    "urllib kütüphanesinde request modülünü kullanıyoruz amacı basitçe verilen url'den dosyayı alıp lokal bir dosya kurmaktır"
   ]
  },
  {
   "cell_type": "code",
   "execution_count": 50,
   "id": "da574071",
   "metadata": {},
   "outputs": [],
   "source": [
    "class DataIngestion:\n",
    "    def __init__(self, config:DataIngestionConfig):\n",
    "        self.config = config\n",
    "\n",
    "    def download_file(self):\n",
    "        if not os.path.exists(self.config.local_data_file):\n",
    "            filename,headers = request.urlretrieve(\n",
    "                url= self.config.source_URL,\n",
    "                filename = self.config.local_data_file\n",
    "\n",
    "            )\n",
    "            logger.info(f\" {filename} adlı dosya indiriliyor, {headers}\")\n",
    "        else :\n",
    "            logger.info(f\" {filename} adlı dosya zaten var\")\n",
    "\n",
    "\n",
    "    def extract_file(self):\n",
    "        unzip_path = self.config.unzip_dir,\n",
    "        os.makedirs(unzip_path,exists_ok=True)\n",
    "        with zipfile.Zipfile(self.config.local_data_file, 'r') as zip_ref:\n",
    "            zip_ref.extractall(unzip_path)\n"
   ]
  },
  {
   "cell_type": "markdown",
   "id": "98771fee",
   "metadata": {},
   "source": [
    "yukarıdaki hücrede ilgili işlemin -veri alma- yapabileceği işlemleri barındıran ve onlara ayrılan fonksiyonlar bulunur. classın init fonksiyonunda yukarıdaki hücrelerde hazırlanan config nesnesini kullanıma alıyoruz\n",
    "\n",
    "download_file fonksiyonunda eğer dosya yoksa config.yamlda bulunan url'i alıp lokal bir data oluşturmasını aksi takdirde dosyanın zaten mevcut olduğuna dair uyarı yapmasını sağlıyoruz\n",
    "\n",
    "extract_file'da ise datanın zip file olması durumunda 'ayıklayıp' onu lokal başka dosya oluşturup oraya aktarmasını istiyoruz"
   ]
  },
  {
   "cell_type": "code",
   "execution_count": null,
   "id": "43982d98",
   "metadata": {},
   "outputs": [],
   "source": [
    "try:\n",
    "    config = ConfigurationManager()\n",
    "    data_ingestion_config = config.get_data_ingestion_config()\n",
    "    data_ingestion = DataIngestion(config=data_ingestion_config)\n",
    "    data_ingestion.download_file()\n",
    "    data_ingestion.extract_file\n",
    "\n",
    "except Exception as e:\n",
    "    raise e"
   ]
  },
  {
   "cell_type": "markdown",
   "id": "05755fc6",
   "metadata": {},
   "source": [
    "yukarıda ise pipeline kurararak şimdiye kadar hazırladığımız fakat aksiyon almadığımız veri alma işlemini gerçekleştiriyoruz\n",
    "\n",
    "1) ConfigurationManager sınıfından config nesnesini alıyoruz\n",
    "\n",
    "2) data_ingestion işlemi için ConfigurationManager sınıfında bulunan get... fonksiyonundan işlem spesifik config alıyoruz\n",
    "\n",
    "3) Sonrasında data ingestion değişkenini DataIngestion nesnesi olarak görüyoruz, sınıfda parametre olarak verdiğimiz config kısmına hemen bir satır yukarasında eşleştirme yaptığımız configi atıyoruz\n",
    "\n",
    "4) DataIngestion classının içinde bulunan fonksiyonları çağırıyoruz"
   ]
  }
 ],
 "metadata": {
  "kernelspec": {
   "display_name": "churn_env",
   "language": "python",
   "name": "python3"
  },
  "language_info": {
   "codemirror_mode": {
    "name": "ipython",
    "version": 3
   },
   "file_extension": ".py",
   "mimetype": "text/x-python",
   "name": "python",
   "nbconvert_exporter": "python",
   "pygments_lexer": "ipython3",
   "version": "3.10.18"
  }
 },
 "nbformat": 4,
 "nbformat_minor": 5
}
